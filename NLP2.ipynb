{
 "cells": [
  {
   "cell_type": "code",
   "execution_count": 16,
   "metadata": {},
   "outputs": [],
   "source": [
    "import json\n",
    "import pandas as pd\n",
    "import re\n",
    "\n",
    "from sklearn.feature_extraction.text import TfidfVectorizer\n",
    "from sklearn.model_selection import train_test_split\n",
    "from sklearn.naive_bayes import MultinomialNB\n",
    "from sklearn.pipeline import make_pipeline\n",
    "from sklearn.metrics import classification_report, accuracy_score\n"
   ]
  },
  {
   "cell_type": "code",
   "execution_count": 2,
   "metadata": {},
   "outputs": [],
   "source": [
    "news_data = []\n",
    "with open('News_Category_Dataset_v3.json', 'r') as file:\n",
    "    for line in file:\n",
    "        news_data.append(json.loads(line))"
   ]
  },
  {
   "cell_type": "code",
   "execution_count": 17,
   "metadata": {},
   "outputs": [],
   "source": [
    "df = pd.DataFrame(news_data)\n",
    "def preprocess_text(text):\n",
    "    text = text.lower()  # Lowercase\n",
    "    text = re.sub(r'\\b\\w{1,2}\\b', '', text)  # Remove short words\n",
    "    text = re.sub(r'[^\\w\\s]', '', text)  # Remove punctuation\n",
    "    text = re.sub(r'\\s+', ' ', text).strip()  # Remove extra spaces\n",
    "    return text\n",
    "\n",
    "df['text'] = df['headline'] + \" \" + df['short_description']\n",
    "df['text'] = df['text'].apply(preprocess_text)\n",
    "X = df['text']\n",
    "y = df['category']"
   ]
  },
  {
   "cell_type": "code",
   "execution_count": 18,
   "metadata": {},
   "outputs": [],
   "source": [
    "\n",
    "X_train, X_test, y_train, y_test = train_test_split(X, y, test_size=0.2, random_state=42)"
   ]
  },
  {
   "cell_type": "code",
   "execution_count": 19,
   "metadata": {},
   "outputs": [
    {
     "name": "stdout",
     "output_type": "stream",
     "text": [
      "Accuracy: 0.5136495967164606\n"
     ]
    },
    {
     "name": "stderr",
     "output_type": "stream",
     "text": [
      "/Users/ajaysrikar00/anaconda3/lib/python3.11/site-packages/sklearn/metrics/_classification.py:1344: UndefinedMetricWarning: Precision and F-score are ill-defined and being set to 0.0 in labels with no predicted samples. Use `zero_division` parameter to control this behavior.\n",
      "  _warn_prf(average, modifier, msg_start, len(result))\n"
     ]
    },
    {
     "name": "stdout",
     "output_type": "stream",
     "text": [
      "                precision    recall  f1-score   support\n",
      "\n",
      "          ARTS       0.35      0.03      0.05       293\n",
      "ARTS & CULTURE       0.80      0.01      0.03       275\n",
      "  BLACK VOICES       0.57      0.10      0.18       889\n",
      "      BUSINESS       0.50      0.28      0.36      1216\n",
      "       COLLEGE       0.70      0.03      0.07       202\n",
      "        COMEDY       0.63      0.23      0.33      1022\n",
      "         CRIME       0.51      0.53      0.52       713\n",
      "CULTURE & ARTS       0.50      0.01      0.03       202\n",
      "       DIVORCE       0.86      0.42      0.57       664\n",
      "     EDUCATION       0.57      0.02      0.04       209\n",
      " ENTERTAINMENT       0.45      0.78      0.57      3419\n",
      "   ENVIRONMENT       1.00      0.09      0.17       313\n",
      "         FIFTY       0.00      0.00      0.00       263\n",
      "  FOOD & DRINK       0.58      0.69      0.63      1270\n",
      "     GOOD NEWS       0.75      0.02      0.04       270\n",
      "         GREEN       0.39      0.10      0.16       532\n",
      "HEALTHY LIVING       0.48      0.04      0.07      1302\n",
      " HOME & LIVING       0.79      0.47      0.59       879\n",
      "        IMPACT       0.44      0.09      0.15       673\n",
      " LATINO VOICES       1.00      0.01      0.02       238\n",
      "         MEDIA       0.76      0.09      0.17       607\n",
      "         MONEY       0.65      0.08      0.14       355\n",
      "     PARENTING       0.44      0.60      0.51      1768\n",
      "       PARENTS       0.69      0.06      0.10       795\n",
      "      POLITICS       0.51      0.92      0.66      7155\n",
      "  QUEER VOICES       0.77      0.44      0.56      1262\n",
      "      RELIGION       0.74      0.17      0.28       530\n",
      "       SCIENCE       0.79      0.20      0.31       424\n",
      "        SPORTS       0.69      0.43      0.53      1014\n",
      "         STYLE       0.67      0.00      0.01       464\n",
      "STYLE & BEAUTY       0.65      0.75      0.70      1975\n",
      "         TASTE       1.00      0.00      0.01       427\n",
      "          TECH       0.66      0.14      0.23       398\n",
      " THE WORLDPOST       0.50      0.31      0.38       741\n",
      "        TRAVEL       0.57      0.75      0.65      2021\n",
      "     U.S. NEWS       0.00      0.00      0.00       269\n",
      "      WEDDINGS       0.81      0.52      0.63       709\n",
      "    WEIRD NEWS       0.53      0.08      0.14       550\n",
      "      WELLNESS       0.40      0.86      0.55      3672\n",
      "         WOMEN       0.71      0.11      0.19       727\n",
      "    WORLD NEWS       0.48      0.15      0.22       665\n",
      "     WORLDPOST       0.45      0.05      0.09       534\n",
      "\n",
      "      accuracy                           0.51     41906\n",
      "     macro avg       0.60      0.25      0.28     41906\n",
      "  weighted avg       0.56      0.51      0.45     41906\n",
      "\n"
     ]
    },
    {
     "name": "stderr",
     "output_type": "stream",
     "text": [
      "/Users/ajaysrikar00/anaconda3/lib/python3.11/site-packages/sklearn/metrics/_classification.py:1344: UndefinedMetricWarning: Precision and F-score are ill-defined and being set to 0.0 in labels with no predicted samples. Use `zero_division` parameter to control this behavior.\n",
      "  _warn_prf(average, modifier, msg_start, len(result))\n",
      "/Users/ajaysrikar00/anaconda3/lib/python3.11/site-packages/sklearn/metrics/_classification.py:1344: UndefinedMetricWarning: Precision and F-score are ill-defined and being set to 0.0 in labels with no predicted samples. Use `zero_division` parameter to control this behavior.\n",
      "  _warn_prf(average, modifier, msg_start, len(result))\n"
     ]
    }
   ],
   "source": [
    "\n",
    "model = make_pipeline(TfidfVectorizer(max_features=5000), MultinomialNB())\n",
    "\n",
    "model.fit(X_train, y_train)\n",
    "\n",
    "y_pred = model.predict(X_test)\n",
    "\n",
    "print(f\"Accuracy: {accuracy_score(y_test, y_pred)}\")\n",
    "print(classification_report(y_test, y_pred))"
   ]
  },
  {
   "cell_type": "code",
   "execution_count": null,
   "metadata": {},
   "outputs": [],
   "source": []
  }
 ],
 "metadata": {
  "kernelspec": {
   "display_name": "base",
   "language": "python",
   "name": "python3"
  },
  "language_info": {
   "codemirror_mode": {
    "name": "ipython",
    "version": 3
   },
   "file_extension": ".py",
   "mimetype": "text/x-python",
   "name": "python",
   "nbconvert_exporter": "python",
   "pygments_lexer": "ipython3",
   "version": "3.11.4"
  }
 },
 "nbformat": 4,
 "nbformat_minor": 2
}
